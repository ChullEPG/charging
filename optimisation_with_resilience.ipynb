{
 "cells": [
  {
   "cell_type": "code",
   "execution_count": 3,
   "metadata": {},
   "outputs": [],
   "source": [
    "import pandas as pd\n",
    "import numpy as np\n",
    "import matplotlib.pyplot as plt\n",
    "import seaborn as sns\n",
    "import sklearn\n",
    "import statsmodels\n",
    "import scipy\n",
    "import os\n",
    "import datetime\n",
    "import glob "
   ]
  },
  {
   "attachments": {},
   "cell_type": "markdown",
   "metadata": {},
   "source": [
    "# Read Taxi Data"
   ]
  },
  {
   "cell_type": "code",
   "execution_count": 4,
   "metadata": {},
   "outputs": [],
   "source": [
    "# Set the working directory\n",
    "filepath = 'Data/taxi_gps_data/data/'\n",
    "\n",
    "# Create list of files\n",
    "files = glob.glob(os.path.join(filepath, '*.csv'))\n",
    "\n",
    "# Initialize dictionary to store all vehicle trips in {vehicle_id: trip_data}\n",
    "all_vehicles = {}\n",
    "\n",
    "# Loop through all files\n",
    "for file in files:\n",
    "    # Take extension out of filename\n",
    "    filename = file.split('.')[0]\n",
    "    # Take filepath out of filename\n",
    "    filename = filename.split('/')[-1]\n",
    "    # Save the trip data to a dictionary with the filename as the key \n",
    "    all_vehicles[filename] = pd.read_csv(file)"
   ]
  },
  {
   "attachments": {},
   "cell_type": "markdown",
   "metadata": {},
   "source": [
    "# Extract trips and breaks\n",
    "breaks_array[i] corresponds to the break between trips_array[i] and trips_array[i + 1]\n"
   ]
  },
  {
   "cell_type": "code",
   "execution_count": 5,
   "metadata": {},
   "outputs": [
    {
     "data": {
      "text/plain": [
       "{'T4000':             Date      Time  Latitude  Longitude  Altitude  Speed\n",
       " 0     2013-11-27  09:24:45 -33.97950   18.84147       140      0\n",
       " 1     2013-11-27  09:31:20 -33.97939   18.84142       138      0\n",
       " 2     2013-11-27  09:34:07 -33.97942   18.84147       148      0\n",
       " 3     2013-11-27  11:36:29 -33.97933   18.84153       149      0\n",
       " 4     2013-11-27  11:37:31 -33.97939   18.84147       148      0\n",
       " ...          ...       ...       ...        ...       ...    ...\n",
       " 2962  2013-11-29  19:53:29 -33.88311   18.84744       196     80\n",
       " 2963  2013-11-29  19:53:37 -33.88150   18.84756       203     82\n",
       " 2964  2013-11-29  19:53:40 -33.88092   18.84778       205     84\n",
       " 2965  2013-11-29  19:54:08 -33.87458   18.84956       196    101\n",
       " 2966  2013-11-29  19:55:07 -33.86194   18.84967       185     87\n",
       " \n",
       " [2967 rows x 6 columns],\n",
       " 'T2000':              Date      Time  Latitude  Longitude  Altitude  Speed\n",
       " 0      2013-11-21  09:50:04 -33.97936   18.84150       136      0\n",
       " 1      2013-11-21  09:53:34 -33.97933   18.84150       133      2\n",
       " 2      2013-11-21  09:53:52 -33.97933   18.84147       133      2\n",
       " 3      2013-11-21  09:53:53 -33.97933   18.84147       133      5\n",
       " 4      2013-11-21  09:53:58 -33.97922   18.84153       132      7\n",
       " ...           ...       ...       ...        ...       ...    ...\n",
       " 17007  2013-11-30  23:59:02 -33.91733   18.85092       106     24\n",
       " 17008  2013-11-30  23:59:13 -33.91697   18.85036       111     16\n",
       " 17009  2013-11-30  23:59:14 -33.91697   18.85033       111     15\n",
       " 17010  2013-11-30  23:59:15 -33.91700   18.85028       112     15\n",
       " 17011  2013-11-30  23:59:17 -33.91703   18.85019       113     19\n",
       " \n",
       " [17012 rows x 6 columns],\n",
       " 'T5000':             Date      Time  Latitude  Longitude  Altitude  Speed\n",
       " 0     2013-11-27  12:38:28 -33.97942   18.84142       156      0\n",
       " 1     2013-11-27  12:41:07 -33.97950   18.84142       156      0\n",
       " 2     2013-11-27  14:48:24 -33.97931   18.84147       143      0\n",
       " 3     2013-11-27  14:51:49 -33.97936   18.84144       156      5\n",
       " 4     2013-11-27  14:52:07 -33.97936   18.84147       143      2\n",
       " ...          ...       ...       ...        ...       ...    ...\n",
       " 1831  2013-11-28  20:55:39 -33.88450   18.84803       192     94\n",
       " 1832  2013-11-28  20:55:46 -33.88294   18.84742       199     91\n",
       " 1833  2013-11-28  20:55:54 -33.88117   18.84769       205     91\n",
       " 1834  2013-11-28  20:56:20 -33.87511   18.84967       200     99\n",
       " 1835  2013-11-28  20:57:18 -33.86158   18.84981       185     92\n",
       " \n",
       " [1836 rows x 6 columns],\n",
       " 'T1001':              Date      Time  Latitude  Longitude  Altitude  Speed\n",
       " 0      2013-11-19  13:05:16 -33.97928   18.84153       157      0\n",
       " 1      2013-11-19  13:06:17 -33.97931   18.84153       151      0\n",
       " 2      2013-11-19  13:07:17 -33.97931   18.84147       138      0\n",
       " 3      2013-11-19  13:08:19 -33.97931   18.84147       138      0\n",
       " 4      2013-11-19  13:09:20 -33.97931   18.84147       134      0\n",
       " ...           ...       ...       ...        ...       ...    ...\n",
       " 12474  2013-11-29  21:00:56 -33.88286   18.84744       199     72\n",
       " 12475  2013-11-29  21:01:05 -33.88131   18.84764       203     72\n",
       " 12476  2013-11-29  21:01:39 -33.87486   18.84964       197     78\n",
       " 12477  2013-11-29  21:02:10 -33.86742   18.84861       169     98\n",
       " 12478  2013-11-29  21:02:36 -33.86156   18.84981       185     94\n",
       " \n",
       " [12479 rows x 6 columns],\n",
       " 'T3001':             Date      Time  Latitude  Longitude  Altitude  Speed\n",
       " 0     2013-11-22  11:42:03 -33.97919   18.84155       144      0\n",
       " 1     2013-11-22  11:42:16 -33.97919   18.84155       142      0\n",
       " 2     2013-11-22  11:44:00 -33.97933   18.84153       150      0\n",
       " 3     2013-11-22  11:46:18 -33.97961   18.84153       152      0\n",
       " 4     2013-11-22  11:46:45 -33.97950   18.84153       145      0\n",
       " ...          ...       ...       ...        ...       ...    ...\n",
       " 9674  2013-11-29  21:07:00 -33.88278   18.84742       200     82\n",
       " 9675  2013-11-29  21:07:07 -33.88133   18.84761       204     85\n",
       " 9676  2013-11-29  21:07:27 -33.87706   18.84956       206     90\n",
       " 9677  2013-11-29  21:07:36 -33.87503   18.84967       198     89\n",
       " 9678  2013-11-29  21:08:30 -33.86144   18.84986       185    100\n",
       " \n",
       " [9679 rows x 6 columns]}"
      ]
     },
     "execution_count": 5,
     "metadata": {},
     "output_type": "execute_result"
    }
   ],
   "source": [
    "def extract_trips(gps_data):\n",
    "    "
   ]
  },
  {
   "cell_type": "code",
   "execution_count": null,
   "metadata": {},
   "outputs": [],
   "source": [
    "'''\n",
    "\n",
    "'''\n",
    "\n",
    "def extract_breaks(gps_data):\n",
    "    "
   ]
  }
 ],
 "metadata": {
  "kernelspec": {
   "display_name": "base",
   "language": "python",
   "name": "python3"
  },
  "language_info": {
   "codemirror_mode": {
    "name": "ipython",
    "version": 3
   },
   "file_extension": ".py",
   "mimetype": "text/x-python",
   "name": "python",
   "nbconvert_exporter": "python",
   "pygments_lexer": "ipython3",
   "version": "3.9.13"
  },
  "orig_nbformat": 4
 },
 "nbformat": 4,
 "nbformat_minor": 2
}
