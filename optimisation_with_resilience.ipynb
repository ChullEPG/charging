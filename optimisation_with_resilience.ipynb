{
 "cells": [
  {
   "cell_type": "code",
   "execution_count": null,
   "metadata": {},
   "outputs": [],
   "source": [
    "import pandas as pd\n",
    "import numpy as np\n",
    "import matplotlib.pyplot as plt\n",
    "import seaborn as sns\n",
    "import sklearn\n",
    "import statsmodels\n",
    "import scipy\n",
    "import os\n",
    "import datetime\n"
   ]
  },
  {
   "cell_type": "code",
   "execution_count": null,
   "metadata": {},
   "outputs": [],
   "source": [
    "# Read in the vehicle GPS data (input from user)\n",
    "filepath = 'taxi_gps_data/data/'\n",
    "files = glob.glob(os.path.join(filepath, '*.csv'))\n",
    "all_vehicles = {}\n",
    "for file in files:\n",
    "    #take extension out of filename\n",
    "    filename = file.split('.')[0]\n",
    "    #take filepath out of filename\n",
    "    filename = filename.split('/')[-1]\n",
    "    #save the data to a dictionary\n",
    "    all_vehicles[filename] = pd.read_csv(file)"
   ]
  }
 ],
 "metadata": {
  "language_info": {
   "name": "python"
  },
  "orig_nbformat": 4
 },
 "nbformat": 4,
 "nbformat_minor": 2
}
